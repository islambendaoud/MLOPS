{
 "cells": [
  {
   "cell_type": "code",
   "execution_count": 12,
   "metadata": {},
   "outputs": [],
   "source": [
    "import mlflow"
   ]
  },
  {
   "cell_type": "code",
   "execution_count": 13,
   "metadata": {},
   "outputs": [],
   "source": [
    "# connect to mlflow server\n",
    "mlflow.set_tracking_uri(\"http://127.0.0.1:5000\")\n",
    "mlflow.set_experiment(\"model_design2\")\n",
    "mlflow.sklearn.autolog(log_datasets = False )"
   ]
  },
  {
   "cell_type": "code",
   "execution_count": 14,
   "metadata": {},
   "outputs": [],
   "source": [
    "import pandas  as pd\n",
    "import numpy   as np\n"
   ]
  },
  {
   "cell_type": "code",
   "execution_count": 15,
   "metadata": {},
   "outputs": [],
   "source": [
    "df = pd.read_csv('../data/train.csv')"
   ]
  },
  {
   "cell_type": "code",
   "execution_count": 16,
   "metadata": {},
   "outputs": [],
   "source": [
    "df.isna().sum()\n",
    "df = df.drop(columns = [\"Unnamed: 0\"])"
   ]
  },
  {
   "cell_type": "code",
   "execution_count": 17,
   "metadata": {},
   "outputs": [],
   "source": [
    "# import tf-idf from file = ../models/tfidf.pkl\n",
    "import pickle\n",
    "from sklearn.linear_model import LogisticRegression\n",
    "from sklearn.metrics import precision_score , recall_score , accuracy_score\n"
   ]
  },
  {
   "cell_type": "code",
   "execution_count": 20,
   "metadata": {},
   "outputs": [],
   "source": [
    "# get last id of the git commit \n",
    "import subprocess\n",
    "import re\n",
    "git_id = subprocess.check_output(['git', 'rev-parse', 'HEAD'])\n",
    "git_id = re.sub(\"[b']\", \"\", str(git_id))"
   ]
  },
  {
   "cell_type": "code",
   "execution_count": 30,
   "metadata": {},
   "outputs": [
    {
     "name": "stderr",
     "output_type": "stream",
     "text": [
      "/Users/islambendaoud/opt/anaconda3/lib/python3.8/site-packages/sklearn/feature_extraction/text.py:408: UserWarning: Your stop_words may be inconsistent with your preprocessing. Tokenizing the stop words generated tokens ['neuf', 'qu', 'quelqu'] not in stop_words.\n",
      "  warnings.warn(\n",
      "Successfully registered model 'added by code 2 '.\n",
      "2023/11/14 16:19:36 INFO mlflow.store.model_registry.abstract_store: Waiting up to 300 seconds for model version to finish creation. Model name: added by code 2 , version 1\n",
      "Created version '1' of model 'added by code 2 '.\n"
     ]
    }
   ],
   "source": [
    "# save the model to mlflow server , save every detail about it \n",
    "with mlflow.start_run(description= \"this is a model to be registred in mlflow only by code \") :\n",
    "    tfidf = pickle.load(open(\"../models/tfidf.pkl\",\"rb\"))\n",
    "\n",
    "    \n",
    "    X = tfidf.transform(df['review'])\n",
    "    y = df[\"polarity\"]\n",
    "    model_log = LogisticRegression(max_iter = 2000)\n",
    "    model_log.fit(X,y)  \n",
    "\n",
    "    df_test = pd.read_csv(\"../data/test.csv\")\n",
    "    #load the tfidf vectorizer dumped before , and use it to transform the test data into tfidf matrix that has the same shape as the train data\n",
    "    X_test = tfidf.transform(df_test[\"review\"])\n",
    "    y_test = df_test[\"polarity\"]\n",
    "    y_pred = model_log.predict(X_test)\n",
    "\n",
    "    precision = precision_score(y_test,y_pred) \n",
    "    recall = recall_score(y_test,y_pred)\n",
    "    accuracy = accuracy_score(y_test,y_pred)\n",
    "    mlflow.log_metric(\"precision\",precision)\n",
    "    mlflow.log_metric(\"recall\",recall)\n",
    "    mlflow.log_metric(\"accuracy\",accuracy)\n",
    "        #Identification du code source, branche, commit sous forme de tags\n",
    "    mlflow.set_tag(\"mlflow.source.git.branch\" , \"main\")\n",
    "    mlflow.set_tag(\"mlflow.source.git.commit\" , git_id)\n",
    "    mlflow.set_tag(\"mlflow.source.name\" , \"model_design2.ipynb\")\n",
    "    mlflow.set_tag(\"preprocessing\" , \"tfidf\")\n",
    "    mlflow.set_tag(\"dataset\" , \"AlloCiné\")\n",
    "    # create client to registry the model \n",
    "    mlflow.sklearn.log_model(model_log , \"model_log\" , registered_model_name = \"added by code 2 \")\n",
    "    \n",
    "\n"
   ]
  },
  {
   "cell_type": "code",
   "execution_count": null,
   "metadata": {},
   "outputs": [],
   "source": []
  },
  {
   "cell_type": "code",
   "execution_count": null,
   "metadata": {},
   "outputs": [],
   "source": []
  }
 ],
 "metadata": {
  "kernelspec": {
   "display_name": ".env",
   "language": "python",
   "name": ".env"
  },
  "language_info": {
   "codemirror_mode": {
    "name": "ipython",
    "version": 3
   },
   "file_extension": ".py",
   "mimetype": "text/x-python",
   "name": "python",
   "nbconvert_exporter": "python",
   "pygments_lexer": "ipython3",
   "version": "3.8.8"
  }
 },
 "nbformat": 4,
 "nbformat_minor": 2
}
